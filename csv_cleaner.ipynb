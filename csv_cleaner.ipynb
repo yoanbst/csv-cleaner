{
 "cells": [
  {
   "cell_type": "code",
   "execution_count": 28,
   "metadata": {},
   "outputs": [],
   "source": [
    "import pandas as pd\n",
    "import numpy as np\n",
    "import matplotlib.pyplot as plt\n",
    "\n",
    "# Import file\n",
    "df = pd.read_csv(r'/Users/yoan/Desktop/data.csv')\n",
    "\n",
    "#Split column date\n",
    "df[['last_entered_at','a', 'b']] = df['last_entered_at'].str.split(' ',expand=True)\n",
    "\n",
    "#Remove useless columns\n",
    "for col_name in df.columns: \n",
    "    if col_name != 'user_id' and col_name != 'email' and col_name != 'last_entered_at':\n",
    "        df.pop(col_name)"
   ]
  },
  {
   "cell_type": "code",
   "execution_count": 29,
   "metadata": {},
   "outputs": [],
   "source": [
    "#filter by date\n",
    "df2 = df[df['last_entered_at'] == '2022-07-29']"
   ]
  },
  {
   "cell_type": "code",
   "execution_count": 30,
   "metadata": {},
   "outputs": [],
   "source": [
    "confirm = input(\"Press enter to confirm or press ESC\")"
   ]
  },
  {
   "cell_type": "code",
   "execution_count": 31,
   "metadata": {},
   "outputs": [],
   "source": [
    "#save to csv\n",
    "df2.to_csv('/Users/yoan/Desktop/data.csv', sep=',')"
   ]
  }
 ],
 "metadata": {
  "interpreter": {
   "hash": "aee8b7b246df8f9039afb4144a1f6fd8d2ca17a180786b69acc140d282b71a49"
  },
  "kernelspec": {
   "display_name": "Python 3.10.2 64-bit",
   "language": "python",
   "name": "python3"
  },
  "language_info": {
   "codemirror_mode": {
    "name": "ipython",
    "version": 3
   },
   "file_extension": ".py",
   "mimetype": "text/x-python",
   "name": "python",
   "nbconvert_exporter": "python",
   "pygments_lexer": "ipython3",
   "version": "3.10.2"
  },
  "orig_nbformat": 4
 },
 "nbformat": 4,
 "nbformat_minor": 2
}
